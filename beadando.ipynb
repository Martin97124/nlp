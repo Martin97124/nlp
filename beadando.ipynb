{
 "cells": [
  {
   "cell_type": "code",
   "execution_count": 3,
   "id": "76c4dcf6",
   "metadata": {},
   "outputs": [
    {
     "data": {
      "text/html": [
       "<div>\n",
       "<style scoped>\n",
       "    .dataframe tbody tr th:only-of-type {\n",
       "        vertical-align: middle;\n",
       "    }\n",
       "\n",
       "    .dataframe tbody tr th {\n",
       "        vertical-align: top;\n",
       "    }\n",
       "\n",
       "    .dataframe thead th {\n",
       "        text-align: right;\n",
       "    }\n",
       "</style>\n",
       "<table border=\"1\" class=\"dataframe\">\n",
       "  <thead>\n",
       "    <tr style=\"text-align: right;\">\n",
       "      <th></th>\n",
       "      <th>image</th>\n",
       "      <th>overall</th>\n",
       "      <th>vote</th>\n",
       "      <th>verified</th>\n",
       "      <th>reviewTime</th>\n",
       "      <th>reviewerID</th>\n",
       "      <th>asin</th>\n",
       "      <th>style</th>\n",
       "      <th>reviewerName</th>\n",
       "      <th>reviewText</th>\n",
       "      <th>summary</th>\n",
       "      <th>unixReviewTime</th>\n",
       "    </tr>\n",
       "  </thead>\n",
       "  <tbody>\n",
       "    <tr>\n",
       "      <th>0</th>\n",
       "      <td>[https://images-na.ssl-images-amazon.com/image...</td>\n",
       "      <td>4</td>\n",
       "      <td>3.0</td>\n",
       "      <td>True</td>\n",
       "      <td>08 12, 2015</td>\n",
       "      <td>A3ELV1VUCZZGL4</td>\n",
       "      <td>0209688726</td>\n",
       "      <td>{'Color:': ' CA'}</td>\n",
       "      <td>AnaG</td>\n",
       "      <td>it's fine. I just would like the stickers to b...</td>\n",
       "      <td>Serve its purpose</td>\n",
       "      <td>1439337600</td>\n",
       "    </tr>\n",
       "    <tr>\n",
       "      <th>1</th>\n",
       "      <td>NaN</td>\n",
       "      <td>2</td>\n",
       "      <td>NaN</td>\n",
       "      <td>True</td>\n",
       "      <td>08 12, 2015</td>\n",
       "      <td>A2FD3FZ2WV6KHQ</td>\n",
       "      <td>0209688726</td>\n",
       "      <td>{'Color:': ' T'}</td>\n",
       "      <td>Obi John Kenobi</td>\n",
       "      <td>took me three returns to get one that didn't w...</td>\n",
       "      <td>and it's still not super stable but whatever</td>\n",
       "      <td>1439337600</td>\n",
       "    </tr>\n",
       "    <tr>\n",
       "      <th>2</th>\n",
       "      <td>[https://images-na.ssl-images-amazon.com/image...</td>\n",
       "      <td>2</td>\n",
       "      <td>12.0</td>\n",
       "      <td>True</td>\n",
       "      <td>08 11, 2015</td>\n",
       "      <td>A39NRKABAVSVSE</td>\n",
       "      <td>0209688726</td>\n",
       "      <td>{'Color:': ' AC'}</td>\n",
       "      <td>MuddyRiverGirl</td>\n",
       "      <td>While the product is fine the description and ...</td>\n",
       "      <td>Beware! Description is wrong.</td>\n",
       "      <td>1439251200</td>\n",
       "    </tr>\n",
       "    <tr>\n",
       "      <th>3</th>\n",
       "      <td>NaN</td>\n",
       "      <td>5</td>\n",
       "      <td>NaN</td>\n",
       "      <td>True</td>\n",
       "      <td>07 29, 2015</td>\n",
       "      <td>AQSBL5KODHSGW</td>\n",
       "      <td>0209688726</td>\n",
       "      <td>{'Color:': ' T'}</td>\n",
       "      <td>Nate S</td>\n",
       "      <td>It's beautiful and blends right in with my woo...</td>\n",
       "      <td>Awesome desk stand, simple and elegant</td>\n",
       "      <td>1438128000</td>\n",
       "    </tr>\n",
       "    <tr>\n",
       "      <th>4</th>\n",
       "      <td>NaN</td>\n",
       "      <td>5</td>\n",
       "      <td>NaN</td>\n",
       "      <td>False</td>\n",
       "      <td>07 11, 2015</td>\n",
       "      <td>AU45OQPK2J5JF</td>\n",
       "      <td>0209688726</td>\n",
       "      <td>{'Color:': ' T'}</td>\n",
       "      <td>Kort</td>\n",
       "      <td>I love this stand! I had been looking around f...</td>\n",
       "      <td>I love this stand</td>\n",
       "      <td>1436572800</td>\n",
       "    </tr>\n",
       "  </tbody>\n",
       "</table>\n",
       "</div>"
      ],
      "text/plain": [
       "                                               image  overall  vote  verified  \\\n",
       "0  [https://images-na.ssl-images-amazon.com/image...        4   3.0      True   \n",
       "1                                                NaN        2   NaN      True   \n",
       "2  [https://images-na.ssl-images-amazon.com/image...        2  12.0      True   \n",
       "3                                                NaN        5   NaN      True   \n",
       "4                                                NaN        5   NaN     False   \n",
       "\n",
       "    reviewTime      reviewerID        asin              style  \\\n",
       "0  08 12, 2015  A3ELV1VUCZZGL4  0209688726  {'Color:': ' CA'}   \n",
       "1  08 12, 2015  A2FD3FZ2WV6KHQ  0209688726   {'Color:': ' T'}   \n",
       "2  08 11, 2015  A39NRKABAVSVSE  0209688726  {'Color:': ' AC'}   \n",
       "3  07 29, 2015   AQSBL5KODHSGW  0209688726   {'Color:': ' T'}   \n",
       "4  07 11, 2015   AU45OQPK2J5JF  0209688726   {'Color:': ' T'}   \n",
       "\n",
       "      reviewerName                                         reviewText  \\\n",
       "0             AnaG  it's fine. I just would like the stickers to b...   \n",
       "1  Obi John Kenobi  took me three returns to get one that didn't w...   \n",
       "2   MuddyRiverGirl  While the product is fine the description and ...   \n",
       "3           Nate S  It's beautiful and blends right in with my woo...   \n",
       "4             Kort  I love this stand! I had been looking around f...   \n",
       "\n",
       "                                        summary  unixReviewTime  \n",
       "0                             Serve its purpose      1439337600  \n",
       "1  and it's still not super stable but whatever      1439337600  \n",
       "2                 Beware! Description is wrong.      1439251200  \n",
       "3        Awesome desk stand, simple and elegant      1438128000  \n",
       "4                             I love this stand      1436572800  "
      ]
     },
     "execution_count": 3,
     "metadata": {},
     "output_type": "execute_result"
    }
   ],
   "source": [
    "import pandas as pd\n",
    "\n",
    "df = pd.read_json(\"./data/Automotive.json\", orient=\"records\", lines=True) #állomány beolvasás\n",
    "df.head(5)"
   ]
  },
  {
   "cell_type": "code",
   "execution_count": 4,
   "id": "2ad10313",
   "metadata": {},
   "outputs": [
    {
     "name": "stdout",
     "output_type": "stream",
     "text": [
      "<class 'pandas.core.frame.DataFrame'>\n",
      "RangeIndex: 50000 entries, 0 to 49999\n",
      "Data columns (total 12 columns):\n",
      " #   Column          Non-Null Count  Dtype  \n",
      "---  ------          --------------  -----  \n",
      " 0   image           698 non-null    object \n",
      " 1   overall         50000 non-null  int64  \n",
      " 2   vote            6696 non-null   float64\n",
      " 3   verified        50000 non-null  bool   \n",
      " 4   reviewTime      50000 non-null  object \n",
      " 5   reviewerID      50000 non-null  object \n",
      " 6   asin            50000 non-null  object \n",
      " 7   style           20175 non-null  object \n",
      " 8   reviewerName    49999 non-null  object \n",
      " 9   reviewText      49987 non-null  object \n",
      " 10  summary         49994 non-null  object \n",
      " 11  unixReviewTime  50000 non-null  int64  \n",
      "dtypes: bool(1), float64(1), int64(2), object(8)\n",
      "memory usage: 4.2+ MB\n"
     ]
    }
   ],
   "source": [
    "df.info()"
   ]
  },
  {
   "cell_type": "code",
   "execution_count": 7,
   "id": "52272a08",
   "metadata": {},
   "outputs": [
    {
     "data": {
      "text/plain": [
       "array([[<AxesSubplot:title={'center':'overall'}>,\n",
       "        <AxesSubplot:title={'center':'vote'}>],\n",
       "       [<AxesSubplot:title={'center':'unixReviewTime'}>, <AxesSubplot:>]],\n",
       "      dtype=object)"
      ]
     },
     "execution_count": 7,
     "metadata": {},
     "output_type": "execute_result"
    },
    {
     "data": {
      "image/png": "[encoded data removed]",
      "text/plain": [
       "<Figure size 640x480 with 4 Axes>"
      ]
     },
     "metadata": {},
     "output_type": "display_data"
    }
   ],
   "source": [
    "df.hist()"
   ]
  },
  {
   "cell_type": "code",
   "execution_count": 8,
   "id": "02071271",
   "metadata": {},
   "outputs": [],
   "source": [
    "df_1 = df.loc[df['overall'] == 1].copy().dropna(subset=\"reviewText\") #értékelések beolvasása, ahol a vélemény nem üres\n",
    "df_2 = df.loc[df['overall'] == 2].copy().dropna(subset=\"reviewText\")\n",
    "df_5 = df.loc[df['overall'] == 5].copy().dropna(subset=\"reviewText\")\n",
    "df_5 = df_5.drop(df_5.index[range(25000)]) # túl sok pozitív értékelés kidobálása\n",
    "\n",
    "#labelek létrehozása: 0 - negatív 1 - pozitív\n",
    "df_1[\"label\"] = 0 \n",
    "df_2[\"label\"] = 0\n",
    "df_5[\"label\"] = 1"
   ]
  },
  {
   "cell_type": "code",
   "execution_count": 9,
   "id": "1124ac02",
   "metadata": {},
   "outputs": [
    {
     "name": "stdout",
     "output_type": "stream",
     "text": [
      "50000\n",
      "15000\n",
      "5000\n"
     ]
    }
   ],
   "source": [
    "len_df = len(df)\n",
    "print(len_df)\n",
    "\n",
    "len_train = int(round(len_df * 0.6))\n",
    "len_val_test = (len_df - len_train) // 4\n",
    "len_train = len_train // 2\n",
    "\n",
    "print(len_train)\n",
    "print(len_val_test) #train, val, test állományok nagyságának meghatározása"
   ]
  },
  {
   "cell_type": "code",
   "execution_count": 10,
   "id": "83b29485",
   "metadata": {},
   "outputs": [],
   "source": [
    "len_df_1 = len(df_1)\n",
    "len_df_2 = len(df_2)\n",
    "len_df_5 = len(df_5)\n",
    "\n",
    "len_train_1 = int(round(len_df_1 * 0.7))\n",
    "len_val_test_1 = (len_df_1 - len_train_1) // 4\n",
    "len_train_1 = len_train_1 // 2\n",
    "\n",
    "len_train_2 = int(round(len_df_2 * 0.7))\n",
    "len_val_test_2 = (len_df_2 - len_train_2) // 4\n",
    "len_train_2 = len_train_2 // 2\n",
    "\n",
    "len_train_5 = int(round(len_df_5 * 0.7))\n",
    "len_val_test_5 = (len_df_5 - len_train_5) // 4\n",
    "len_train_5 = len_train_5 // 2\n",
    "\n",
    "#test, val, és train adatállomány létrehozása\n",
    "\n",
    "df_1_test = df_1[:len_train_1].copy()\n",
    "df_2_test = df_2[:len_train_2].copy()\n",
    "df_5_test = df_5[:len_train_5].copy()\n",
    "\n",
    "df_1_val = df_1[len_train_1:len_train_1+len_val_test_1].copy()\n",
    "df_2_val = df_2[len_train_2:len_train_2+len_val_test_2].copy()\n",
    "df_5_val = df_5[len_train_5:len_train_5+len_val_test_5].copy()\n",
    "\n",
    "df_1_train = df_1[len_train_1+len_val_test_1:].copy()\n",
    "df_2_train = df_2[len_train_2+len_val_test_2:].copy()\n",
    "df_5_train = df_5[len_train_5+len_val_test_5:].copy()"
   ]
  },
  {
   "cell_type": "code",
   "execution_count": 11,
   "id": "c5fa1ab2",
   "metadata": {},
   "outputs": [
    {
     "data": {
      "text/plain": [
       "array([[<AxesSubplot:title={'center':'overall'}>,\n",
       "        <AxesSubplot:title={'center':'vote'}>],\n",
       "       [<AxesSubplot:title={'center':'unixReviewTime'}>,\n",
       "        <AxesSubplot:title={'center':'label'}>]], dtype=object)"
      ]
     },
     "execution_count": 11,
     "metadata": {},
     "output_type": "execute_result"
    },
    {
     "data": {
      "image/png": "[encoded data removed]",
      "text/plain": [
       "<Figure size 640x480 with 4 Axes>"
      ]
     },
     "metadata": {},
     "output_type": "display_data"
    }
   ],
   "source": [
    "df_train = pd.concat([df_1_train, df_2_train, df_5_train]) # train állomány létrehozása\n",
    "df_train = df_train.sample(frac=1)\n",
    "df_train.hist()"
   ]
  },
  {
   "cell_type": "code",
   "execution_count": 12,
   "id": "d295bcef",
   "metadata": {},
   "outputs": [
    {
     "data": {
      "text/plain": [
       "array([[<AxesSubplot:title={'center':'overall'}>,\n",
       "        <AxesSubplot:title={'center':'vote'}>],\n",
       "       [<AxesSubplot:title={'center':'unixReviewTime'}>,\n",
       "        <AxesSubplot:title={'center':'label'}>]], dtype=object)"
      ]
     },
     "execution_count": 12,
     "metadata": {},
     "output_type": "execute_result"
    },
    {
     "data": {
      "image/png": "[encoded data removed]",
      "text/plain": [
       "<Figure size 640x480 with 4 Axes>"
      ]
     },
     "metadata": {},
     "output_type": "display_data"
    }
   ],
   "source": [
    "df_val = pd.concat([df_1_val, df_2_val, df_5_val]) # val állomány létrehozása\n",
    "df_val = df_val.sample(frac=1)\n",
    "df_val.hist()"
   ]
  },
  {
   "cell_type": "code",
   "execution_count": 13,
   "id": "4d4ef448",
   "metadata": {},
   "outputs": [
    {
     "data": {
      "text/plain": [
       "array([[<AxesSubplot:title={'center':'overall'}>,\n",
       "        <AxesSubplot:title={'center':'vote'}>],\n",
       "       [<AxesSubplot:title={'center':'unixReviewTime'}>,\n",
       "        <AxesSubplot:title={'center':'label'}>]], dtype=object)"
      ]
     },
     "execution_count": 13,
     "metadata": {},
     "output_type": "execute_result"
    },
    {
     "data": {
      "image/png": "[encoded data removed]",
      "text/plain": [
       "<Figure size 640x480 with 4 Axes>"
      ]
     },
     "metadata": {},
     "output_type": "display_data"
    }
   ],
   "source": [
    "df_test = pd.concat([df_1_test, df_2_test, df_5_test]) # test állomány létrehozása\n",
    "df_test = df_test.sample(frac=1)\n",
    "df_test.hist()"
   ]
  },
  {
   "cell_type": "code",
   "execution_count": 14,
   "id": "e01e47e6",
   "metadata": {},
   "outputs": [],
   "source": [
    "import json\n",
    "\n",
    "train = \"./data/automotive_train.json\"\n",
    "df_train.to_json(train, orient=\"records\") # train állomány mentése json fájlba\n"
   ]
  },
  {
   "cell_type": "code",
   "execution_count": 15,
   "id": "b3ed9c7b",
   "metadata": {},
   "outputs": [
    {
     "data": {
      "text/html": [
       "<div>\n",
       "<style scoped>\n",
       "    .dataframe tbody tr th:only-of-type {\n",
       "        vertical-align: middle;\n",
       "    }\n",
       "\n",
       "    .dataframe tbody tr th {\n",
       "        vertical-align: top;\n",
       "    }\n",
       "\n",
       "    .dataframe thead th {\n",
       "        text-align: right;\n",
       "    }\n",
       "</style>\n",
       "<table border=\"1\" class=\"dataframe\">\n",
       "  <thead>\n",
       "    <tr style=\"text-align: right;\">\n",
       "      <th></th>\n",
       "      <th>image</th>\n",
       "      <th>overall</th>\n",
       "      <th>vote</th>\n",
       "      <th>verified</th>\n",
       "      <th>reviewTime</th>\n",
       "      <th>reviewerID</th>\n",
       "      <th>asin</th>\n",
       "      <th>style</th>\n",
       "      <th>reviewerName</th>\n",
       "      <th>reviewText</th>\n",
       "      <th>summary</th>\n",
       "      <th>unixReviewTime</th>\n",
       "      <th>label</th>\n",
       "    </tr>\n",
       "  </thead>\n",
       "  <tbody>\n",
       "    <tr>\n",
       "      <th>0</th>\n",
       "      <td>[https://images-na.ssl-images-amazon.com/image...</td>\n",
       "      <td>1</td>\n",
       "      <td>NaN</td>\n",
       "      <td>True</td>\n",
       "      <td>02 27, 2018</td>\n",
       "      <td>A32IT5JHBSQSQJ</td>\n",
       "      <td>B0000CBILL</td>\n",
       "      <td>{'Color:': ' Red'}</td>\n",
       "      <td>Julia Bolchakova</td>\n",
       "      <td>It fell apart after two weeks. Never again.</td>\n",
       "      <td>One Star</td>\n",
       "      <td>1519689600</td>\n",
       "      <td>0</td>\n",
       "    </tr>\n",
       "    <tr>\n",
       "      <th>1</th>\n",
       "      <td>None</td>\n",
       "      <td>2</td>\n",
       "      <td>NaN</td>\n",
       "      <td>False</td>\n",
       "      <td>05 26, 2015</td>\n",
       "      <td>AMNAZOHGLF93P</td>\n",
       "      <td>B0000WVV6A</td>\n",
       "      <td>None</td>\n",
       "      <td>camaro</td>\n",
       "      <td>It works great if you just leave it open. Tryi...</td>\n",
       "      <td>It works great if you just leave it open</td>\n",
       "      <td>1432598400</td>\n",
       "      <td>0</td>\n",
       "    </tr>\n",
       "    <tr>\n",
       "      <th>2</th>\n",
       "      <td>None</td>\n",
       "      <td>1</td>\n",
       "      <td>NaN</td>\n",
       "      <td>True</td>\n",
       "      <td>08 1, 2013</td>\n",
       "      <td>A1FRGRT2N21SWS</td>\n",
       "      <td>B0000AXDFT</td>\n",
       "      <td>{'Size:': ' Size 1: Fits Cars 13'1\" Long'}</td>\n",
       "      <td>rp</td>\n",
       "      <td>30 days after purchase was in shreds don't was...</td>\n",
       "      <td>dont waste your money</td>\n",
       "      <td>1375315200</td>\n",
       "      <td>0</td>\n",
       "    </tr>\n",
       "    <tr>\n",
       "      <th>3</th>\n",
       "      <td>None</td>\n",
       "      <td>5</td>\n",
       "      <td>NaN</td>\n",
       "      <td>True</td>\n",
       "      <td>10 7, 2014</td>\n",
       "      <td>A1ECLHUJWKNZM7</td>\n",
       "      <td>B0001CMUV4</td>\n",
       "      <td>None</td>\n",
       "      <td>BJ</td>\n",
       "      <td>Installed the tightener and it removed all the...</td>\n",
       "      <td>VERY HAPPY.</td>\n",
       "      <td>1412640000</td>\n",
       "      <td>1</td>\n",
       "    </tr>\n",
       "    <tr>\n",
       "      <th>4</th>\n",
       "      <td>None</td>\n",
       "      <td>1</td>\n",
       "      <td>NaN</td>\n",
       "      <td>True</td>\n",
       "      <td>07 2, 2015</td>\n",
       "      <td>ACB7E91WOW63J</td>\n",
       "      <td>B0000AXNMO</td>\n",
       "      <td>{'Style:': ' Pack of 1'}</td>\n",
       "      <td>J. Wilson</td>\n",
       "      <td>After using this product and going on a 4000 m...</td>\n",
       "      <td>Not worth buying. Did nothing on trip</td>\n",
       "      <td>1435795200</td>\n",
       "      <td>0</td>\n",
       "    </tr>\n",
       "  </tbody>\n",
       "</table>\n",
       "</div>"
      ],
      "text/plain": [
       "                                               image  overall  vote  verified  \\\n",
       "0  [https://images-na.ssl-images-amazon.com/image...        1   NaN      True   \n",
       "1                                               None        2   NaN     False   \n",
       "2                                               None        1   NaN      True   \n",
       "3                                               None        5   NaN      True   \n",
       "4                                               None        1   NaN      True   \n",
       "\n",
       "    reviewTime      reviewerID        asin  \\\n",
       "0  02 27, 2018  A32IT5JHBSQSQJ  B0000CBILL   \n",
       "1  05 26, 2015   AMNAZOHGLF93P  B0000WVV6A   \n",
       "2   08 1, 2013  A1FRGRT2N21SWS  B0000AXDFT   \n",
       "3   10 7, 2014  A1ECLHUJWKNZM7  B0001CMUV4   \n",
       "4   07 2, 2015   ACB7E91WOW63J  B0000AXNMO   \n",
       "\n",
       "                                        style      reviewerName  \\\n",
       "0                          {'Color:': ' Red'}  Julia Bolchakova   \n",
       "1                                        None            camaro   \n",
       "2  {'Size:': ' Size 1: Fits Cars 13'1\" Long'}                rp   \n",
       "3                                        None                BJ   \n",
       "4                    {'Style:': ' Pack of 1'}         J. Wilson   \n",
       "\n",
       "                                          reviewText  \\\n",
       "0        It fell apart after two weeks. Never again.   \n",
       "1  It works great if you just leave it open. Tryi...   \n",
       "2  30 days after purchase was in shreds don't was...   \n",
       "3  Installed the tightener and it removed all the...   \n",
       "4  After using this product and going on a 4000 m...   \n",
       "\n",
       "                                    summary  unixReviewTime  label  \n",
       "0                                  One Star      1519689600      0  \n",
       "1  It works great if you just leave it open      1432598400      0  \n",
       "2                     dont waste your money      1375315200      0  \n",
       "3                               VERY HAPPY.      1412640000      1  \n",
       "4     Not worth buying. Did nothing on trip      1435795200      0  "
      ]
     },
     "execution_count": 15,
     "metadata": {},
     "output_type": "execute_result"
    }
   ],
   "source": [
    "df_readed_train = pd.read_json(train, orient='records') #train állomány beolvasása a json fájlból\n",
    "df_readed_train.head()"
   ]
  },
  {
   "cell_type": "code",
   "execution_count": 16,
   "id": "3e67d4c6",
   "metadata": {},
   "outputs": [
    {
     "data": {
      "text/plain": [
       "array([[<AxesSubplot:title={'center':'overall'}>,\n",
       "        <AxesSubplot:title={'center':'vote'}>],\n",
       "       [<AxesSubplot:title={'center':'unixReviewTime'}>,\n",
       "        <AxesSubplot:title={'center':'label'}>]], dtype=object)"
      ]
     },
     "execution_count": 16,
     "metadata": {},
     "output_type": "execute_result"
    },
    {
     "data": {
      "image/png": "[encoded data removed]",
      "text/plain": [
       "<Figure size 640x480 with 4 Axes>"
      ]
     },
     "metadata": {},
     "output_type": "display_data"
    }
   ],
   "source": [
    "df_readed_train.hist()"
   ]
  },
  {
   "cell_type": "code",
   "execution_count": 17,
   "id": "bafb03c2",
   "metadata": {},
   "outputs": [
    {
     "data": {
      "text/html": [
       "<div>\n",
       "<style scoped>\n",
       "    .dataframe tbody tr th:only-of-type {\n",
       "        vertical-align: middle;\n",
       "    }\n",
       "\n",
       "    .dataframe tbody tr th {\n",
       "        vertical-align: top;\n",
       "    }\n",
       "\n",
       "    .dataframe thead th {\n",
       "        text-align: right;\n",
       "    }\n",
       "</style>\n",
       "<table border=\"1\" class=\"dataframe\">\n",
       "  <thead>\n",
       "    <tr style=\"text-align: right;\">\n",
       "      <th></th>\n",
       "      <th>image</th>\n",
       "      <th>overall</th>\n",
       "      <th>vote</th>\n",
       "      <th>verified</th>\n",
       "      <th>reviewTime</th>\n",
       "      <th>reviewerID</th>\n",
       "      <th>asin</th>\n",
       "      <th>style</th>\n",
       "      <th>reviewerName</th>\n",
       "      <th>reviewText</th>\n",
       "      <th>summary</th>\n",
       "      <th>unixReviewTime</th>\n",
       "      <th>label</th>\n",
       "    </tr>\n",
       "  </thead>\n",
       "  <tbody>\n",
       "    <tr>\n",
       "      <th>0</th>\n",
       "      <td>None</td>\n",
       "      <td>1</td>\n",
       "      <td>NaN</td>\n",
       "      <td>True</td>\n",
       "      <td>08 15, 2015</td>\n",
       "      <td>A34PWE6GH7AMI2</td>\n",
       "      <td>B0000AXDB3</td>\n",
       "      <td>None</td>\n",
       "      <td>Hew</td>\n",
       "      <td>Did not for for me.</td>\n",
       "      <td>One Star</td>\n",
       "      <td>1439596800</td>\n",
       "      <td>0</td>\n",
       "    </tr>\n",
       "    <tr>\n",
       "      <th>1</th>\n",
       "      <td>None</td>\n",
       "      <td>5</td>\n",
       "      <td>NaN</td>\n",
       "      <td>True</td>\n",
       "      <td>11 17, 2013</td>\n",
       "      <td>A1EQRPQ2081JTL</td>\n",
       "      <td>B000182EXW</td>\n",
       "      <td>None</td>\n",
       "      <td>Morton F. Nunes</td>\n",
       "      <td>Looks really nice and they work even better  1...</td>\n",
       "      <td>Love them !!!</td>\n",
       "      <td>1384646400</td>\n",
       "      <td>1</td>\n",
       "    </tr>\n",
       "    <tr>\n",
       "      <th>2</th>\n",
       "      <td>None</td>\n",
       "      <td>5</td>\n",
       "      <td>NaN</td>\n",
       "      <td>True</td>\n",
       "      <td>06 23, 2015</td>\n",
       "      <td>A1U072ZNFDPF3I</td>\n",
       "      <td>B000182EW8</td>\n",
       "      <td>None</td>\n",
       "      <td>steve 4747</td>\n",
       "      <td>AVS products are the only way to go,good price...</td>\n",
       "      <td>Another home run</td>\n",
       "      <td>1435017600</td>\n",
       "      <td>1</td>\n",
       "    </tr>\n",
       "    <tr>\n",
       "      <th>3</th>\n",
       "      <td>None</td>\n",
       "      <td>5</td>\n",
       "      <td>NaN</td>\n",
       "      <td>True</td>\n",
       "      <td>03 28, 2016</td>\n",
       "      <td>A3V1QAB305FFAO</td>\n",
       "      <td>B00017YYI6</td>\n",
       "      <td>None</td>\n",
       "      <td>Brian Carty</td>\n",
       "      <td>The manual controller is a cool addition to my...</td>\n",
       "      <td>Looks cool</td>\n",
       "      <td>1459123200</td>\n",
       "      <td>1</td>\n",
       "    </tr>\n",
       "    <tr>\n",
       "      <th>4</th>\n",
       "      <td>None</td>\n",
       "      <td>5</td>\n",
       "      <td>3.0</td>\n",
       "      <td>True</td>\n",
       "      <td>07 24, 2014</td>\n",
       "      <td>A3PW0782TWR552</td>\n",
       "      <td>B000182EZU</td>\n",
       "      <td>None</td>\n",
       "      <td>Starchild</td>\n",
       "      <td>Somehow this Ventshade added and completed my ...</td>\n",
       "      <td>Allows me to enjoy the ozone air during the ra...</td>\n",
       "      <td>1406160000</td>\n",
       "      <td>1</td>\n",
       "    </tr>\n",
       "  </tbody>\n",
       "</table>\n",
       "</div>"
      ],
      "text/plain": [
       "  image  overall  vote  verified   reviewTime      reviewerID        asin  \\\n",
       "0  None        1   NaN      True  08 15, 2015  A34PWE6GH7AMI2  B0000AXDB3   \n",
       "1  None        5   NaN      True  11 17, 2013  A1EQRPQ2081JTL  B000182EXW   \n",
       "2  None        5   NaN      True  06 23, 2015  A1U072ZNFDPF3I  B000182EW8   \n",
       "3  None        5   NaN      True  03 28, 2016  A3V1QAB305FFAO  B00017YYI6   \n",
       "4  None        5   3.0      True  07 24, 2014  A3PW0782TWR552  B000182EZU   \n",
       "\n",
       "  style     reviewerName                                         reviewText  \\\n",
       "0  None              Hew                                Did not for for me.   \n",
       "1  None  Morton F. Nunes  Looks really nice and they work even better  1...   \n",
       "2  None       steve 4747  AVS products are the only way to go,good price...   \n",
       "3  None      Brian Carty  The manual controller is a cool addition to my...   \n",
       "4  None        Starchild  Somehow this Ventshade added and completed my ...   \n",
       "\n",
       "                                             summary  unixReviewTime  label  \n",
       "0                                           One Star      1439596800      0  \n",
       "1                                      Love them !!!      1384646400      1  \n",
       "2                                   Another home run      1435017600      1  \n",
       "3                                         Looks cool      1459123200      1  \n",
       "4  Allows me to enjoy the ozone air during the ra...      1406160000      1  "
      ]
     },
     "execution_count": 17,
     "metadata": {},
     "output_type": "execute_result"
    }
   ],
   "source": [
    "val = \"./data/automotive_val.json\"\n",
    "df_val.to_json(val, orient=\"records\") # val állomány mentése fájlba\n",
    "df_readed_val = pd.read_json(val, orient='records') # val állomány beolvasása\n",
    "df_readed_val.head()"
   ]
  },
  {
   "cell_type": "code",
   "execution_count": 18,
   "id": "a3ba4fa7",
   "metadata": {},
   "outputs": [
    {
     "data": {
      "text/plain": [
       "array([[<AxesSubplot:title={'center':'overall'}>,\n",
       "        <AxesSubplot:title={'center':'vote'}>],\n",
       "       [<AxesSubplot:title={'center':'unixReviewTime'}>,\n",
       "        <AxesSubplot:title={'center':'label'}>]], dtype=object)"
      ]
     },
     "execution_count": 18,
     "metadata": {},
     "output_type": "execute_result"
    },
    {
     "data": {
      "image/png": "[encoded data removed]",
      "text/plain": [
       "<Figure size 640x480 with 4 Axes>"
      ]
     },
     "metadata": {},
     "output_type": "display_data"
    }
   ],
   "source": [
    "df_readed_val.hist()"
   ]
  },
  {
   "cell_type": "code",
   "execution_count": 19,
   "id": "917f7b56",
   "metadata": {},
   "outputs": [
    {
     "data": {
      "text/html": [
       "<div>\n",
       "<style scoped>\n",
       "    .dataframe tbody tr th:only-of-type {\n",
       "        vertical-align: middle;\n",
       "    }\n",
       "\n",
       "    .dataframe tbody tr th {\n",
       "        vertical-align: top;\n",
       "    }\n",
       "\n",
       "    .dataframe thead th {\n",
       "        text-align: right;\n",
       "    }\n",
       "</style>\n",
       "<table border=\"1\" class=\"dataframe\">\n",
       "  <thead>\n",
       "    <tr style=\"text-align: right;\">\n",
       "      <th></th>\n",
       "      <th>image</th>\n",
       "      <th>overall</th>\n",
       "      <th>vote</th>\n",
       "      <th>verified</th>\n",
       "      <th>reviewTime</th>\n",
       "      <th>reviewerID</th>\n",
       "      <th>asin</th>\n",
       "      <th>style</th>\n",
       "      <th>reviewerName</th>\n",
       "      <th>reviewText</th>\n",
       "      <th>summary</th>\n",
       "      <th>unixReviewTime</th>\n",
       "      <th>label</th>\n",
       "    </tr>\n",
       "  </thead>\n",
       "  <tbody>\n",
       "    <tr>\n",
       "      <th>0</th>\n",
       "      <td>None</td>\n",
       "      <td>5</td>\n",
       "      <td>NaN</td>\n",
       "      <td>True</td>\n",
       "      <td>09 10, 2011</td>\n",
       "      <td>AVPE4VGE7MI9P</td>\n",
       "      <td>B000157TP8</td>\n",
       "      <td>None</td>\n",
       "      <td>Honest-29</td>\n",
       "      <td>I had had one of these power packs for several...</td>\n",
       "      <td>This is my second one!</td>\n",
       "      <td>1315612800</td>\n",
       "      <td>1</td>\n",
       "    </tr>\n",
       "    <tr>\n",
       "      <th>1</th>\n",
       "      <td>None</td>\n",
       "      <td>5</td>\n",
       "      <td>NaN</td>\n",
       "      <td>True</td>\n",
       "      <td>08 10, 2014</td>\n",
       "      <td>A15HBTR61E21DW</td>\n",
       "      <td>B000150J5K</td>\n",
       "      <td>None</td>\n",
       "      <td>Debbie Phipps</td>\n",
       "      <td>they fit perfectly</td>\n",
       "      <td>perfect fit, looks great!</td>\n",
       "      <td>1407628800</td>\n",
       "      <td>1</td>\n",
       "    </tr>\n",
       "    <tr>\n",
       "      <th>2</th>\n",
       "      <td>None</td>\n",
       "      <td>5</td>\n",
       "      <td>NaN</td>\n",
       "      <td>True</td>\n",
       "      <td>11 11, 2014</td>\n",
       "      <td>AZ4S69W8VHMTJ</td>\n",
       "      <td>B0000WU0BC</td>\n",
       "      <td>{'Style:': ' TLK225'}</td>\n",
       "      <td>Amanda J.</td>\n",
       "      <td>Well built. Everything you would ever think yo...</td>\n",
       "      <td>Excellent set.</td>\n",
       "      <td>1415664000</td>\n",
       "      <td>1</td>\n",
       "    </tr>\n",
       "    <tr>\n",
       "      <th>3</th>\n",
       "      <td>None</td>\n",
       "      <td>2</td>\n",
       "      <td>NaN</td>\n",
       "      <td>True</td>\n",
       "      <td>10 18, 2014</td>\n",
       "      <td>A26BS9D9ZFWQF9</td>\n",
       "      <td>B000077CPH</td>\n",
       "      <td>{'Color:': ' Yellow'}</td>\n",
       "      <td>Dipugee</td>\n",
       "      <td>The unit does not stay firmly attached to the ...</td>\n",
       "      <td>The unit does not stay firmly attached to the ...</td>\n",
       "      <td>1413590400</td>\n",
       "      <td>0</td>\n",
       "    </tr>\n",
       "    <tr>\n",
       "      <th>4</th>\n",
       "      <td>None</td>\n",
       "      <td>2</td>\n",
       "      <td>NaN</td>\n",
       "      <td>True</td>\n",
       "      <td>01 12, 2014</td>\n",
       "      <td>A3KG5V0KJT2KDI</td>\n",
       "      <td>B00009WC2S</td>\n",
       "      <td>None</td>\n",
       "      <td>Brittany</td>\n",
       "      <td>Once we got the product, we required a few mor...</td>\n",
       "      <td>Need more items for use</td>\n",
       "      <td>1389484800</td>\n",
       "      <td>0</td>\n",
       "    </tr>\n",
       "  </tbody>\n",
       "</table>\n",
       "</div>"
      ],
      "text/plain": [
       "  image  overall  vote  verified   reviewTime      reviewerID        asin  \\\n",
       "0  None        5   NaN      True  09 10, 2011   AVPE4VGE7MI9P  B000157TP8   \n",
       "1  None        5   NaN      True  08 10, 2014  A15HBTR61E21DW  B000150J5K   \n",
       "2  None        5   NaN      True  11 11, 2014   AZ4S69W8VHMTJ  B0000WU0BC   \n",
       "3  None        2   NaN      True  10 18, 2014  A26BS9D9ZFWQF9  B000077CPH   \n",
       "4  None        2   NaN      True  01 12, 2014  A3KG5V0KJT2KDI  B00009WC2S   \n",
       "\n",
       "                   style   reviewerName  \\\n",
       "0                   None      Honest-29   \n",
       "1                   None  Debbie Phipps   \n",
       "2  {'Style:': ' TLK225'}      Amanda J.   \n",
       "3  {'Color:': ' Yellow'}        Dipugee   \n",
       "4                   None       Brittany   \n",
       "\n",
       "                                          reviewText  \\\n",
       "0  I had had one of these power packs for several...   \n",
       "1                                 they fit perfectly   \n",
       "2  Well built. Everything you would ever think yo...   \n",
       "3  The unit does not stay firmly attached to the ...   \n",
       "4  Once we got the product, we required a few mor...   \n",
       "\n",
       "                                             summary  unixReviewTime  label  \n",
       "0                             This is my second one!      1315612800      1  \n",
       "1                          perfect fit, looks great!      1407628800      1  \n",
       "2                                     Excellent set.      1415664000      1  \n",
       "3  The unit does not stay firmly attached to the ...      1413590400      0  \n",
       "4                            Need more items for use      1389484800      0  "
      ]
     },
     "execution_count": 19,
     "metadata": {},
     "output_type": "execute_result"
    }
   ],
   "source": [
    "test = \"./data/automotive_test.json\"\n",
    "df_test.to_json(test, orient=\"records\") # test állomány mentése fájlba\n",
    "df_readed_test = pd.read_json(test, orient='records') # test állomány beolvasása \n",
    "df_readed_test.head()"
   ]
  },
  {
   "cell_type": "code",
   "execution_count": 20,
   "id": "0d48ff01",
   "metadata": {},
   "outputs": [
    {
     "data": {
      "text/plain": [
       "array([[<AxesSubplot:title={'center':'overall'}>,\n",
       "        <AxesSubplot:title={'center':'vote'}>],\n",
       "       [<AxesSubplot:title={'center':'unixReviewTime'}>,\n",
       "        <AxesSubplot:title={'center':'label'}>]], dtype=object)"
      ]
     },
     "execution_count": 20,
     "metadata": {},
     "output_type": "execute_result"
    },
    {
     "data": {
      "image/png": "[encoded data removed]",
      "text/plain": [
       "<Figure size 640x480 with 4 Axes>"
      ]
     },
     "metadata": {},
     "output_type": "display_data"
    }
   ],
   "source": [
    "df_readed_test.hist()"
   ]
  },
  {
   "cell_type": "code",
   "execution_count": 21,
   "id": "0826adc2",
   "metadata": {},
   "outputs": [],
   "source": [
    "def sentiment(value):\n",
    "    if(value == 1):\n",
    "        return \"positive\"\n",
    "    else:\n",
    "        return \"negative\"\n",
    "\n",
    "df_train[\"sentiment\"] = df_train[\"label\"].apply(sentiment) #pozitív, negatív értékek meghatározása (egyes, kettes - negatív)\n",
    "df_val[\"sentiment\"] = df_val[\"label\"].apply(sentiment) # ------------------------------------------ (ötös - pozitív)\n",
    "df_test[\"sentiment\"] = df_test[\"label\"].apply(sentiment)"
   ]
  },
  {
   "cell_type": "code",
   "execution_count": 22,
   "id": "f406f0f5",
   "metadata": {},
   "outputs": [
    {
     "data": {
      "text/html": [
       "<div>\n",
       "<style scoped>\n",
       "    .dataframe tbody tr th:only-of-type {\n",
       "        vertical-align: middle;\n",
       "    }\n",
       "\n",
       "    .dataframe tbody tr th {\n",
       "        vertical-align: top;\n",
       "    }\n",
       "\n",
       "    .dataframe thead th {\n",
       "        text-align: right;\n",
       "    }\n",
       "</style>\n",
       "<table border=\"1\" class=\"dataframe\">\n",
       "  <thead>\n",
       "    <tr style=\"text-align: right;\">\n",
       "      <th></th>\n",
       "      <th>image</th>\n",
       "      <th>overall</th>\n",
       "      <th>vote</th>\n",
       "      <th>verified</th>\n",
       "      <th>reviewTime</th>\n",
       "      <th>reviewerID</th>\n",
       "      <th>asin</th>\n",
       "      <th>style</th>\n",
       "      <th>reviewerName</th>\n",
       "      <th>reviewText</th>\n",
       "      <th>summary</th>\n",
       "      <th>unixReviewTime</th>\n",
       "      <th>label</th>\n",
       "      <th>sentiment</th>\n",
       "    </tr>\n",
       "  </thead>\n",
       "  <tbody>\n",
       "    <tr>\n",
       "      <th>46085</th>\n",
       "      <td>NaN</td>\n",
       "      <td>5</td>\n",
       "      <td>NaN</td>\n",
       "      <td>True</td>\n",
       "      <td>10 7, 2014</td>\n",
       "      <td>A1ECLHUJWKNZM7</td>\n",
       "      <td>B0001CMUV4</td>\n",
       "      <td>NaN</td>\n",
       "      <td>BJ</td>\n",
       "      <td>Installed the tightener and it removed all the...</td>\n",
       "      <td>VERY HAPPY.</td>\n",
       "      <td>1412640000</td>\n",
       "      <td>1</td>\n",
       "      <td>positive</td>\n",
       "    </tr>\n",
       "    <tr>\n",
       "      <th>44796</th>\n",
       "      <td>NaN</td>\n",
       "      <td>5</td>\n",
       "      <td>NaN</td>\n",
       "      <td>True</td>\n",
       "      <td>11 16, 2017</td>\n",
       "      <td>A21FQ5NR9XCURD</td>\n",
       "      <td>B0001CMUV4</td>\n",
       "      <td>NaN</td>\n",
       "      <td>David C.</td>\n",
       "      <td>rock solid, fit perfectly</td>\n",
       "      <td>Nice</td>\n",
       "      <td>1510790400</td>\n",
       "      <td>1</td>\n",
       "      <td>positive</td>\n",
       "    </tr>\n",
       "    <tr>\n",
       "      <th>47090</th>\n",
       "      <td>NaN</td>\n",
       "      <td>5</td>\n",
       "      <td>NaN</td>\n",
       "      <td>True</td>\n",
       "      <td>10 23, 2017</td>\n",
       "      <td>A23T8NW2LO9JAI</td>\n",
       "      <td>B0001EXGZG</td>\n",
       "      <td>NaN</td>\n",
       "      <td>clodhopper</td>\n",
       "      <td>WORKS LIKE IT SHOULD</td>\n",
       "      <td>Five Stars</td>\n",
       "      <td>1508716800</td>\n",
       "      <td>1</td>\n",
       "      <td>positive</td>\n",
       "    </tr>\n",
       "    <tr>\n",
       "      <th>44596</th>\n",
       "      <td>NaN</td>\n",
       "      <td>5</td>\n",
       "      <td>NaN</td>\n",
       "      <td>True</td>\n",
       "      <td>11 12, 2014</td>\n",
       "      <td>A3Q7T92U7MBE8I</td>\n",
       "      <td>B0001CKHZ0</td>\n",
       "      <td>{'Size:': ' Fits 8' - 10' Trailers'}</td>\n",
       "      <td>Mike Holland</td>\n",
       "      <td>Great fit for our 10ft rockwood.</td>\n",
       "      <td>Five Stars</td>\n",
       "      <td>1415750400</td>\n",
       "      <td>1</td>\n",
       "      <td>positive</td>\n",
       "    </tr>\n",
       "    <tr>\n",
       "      <th>47988</th>\n",
       "      <td>NaN</td>\n",
       "      <td>5</td>\n",
       "      <td>NaN</td>\n",
       "      <td>True</td>\n",
       "      <td>06 23, 2012</td>\n",
       "      <td>A78YMB0JNAGPW</td>\n",
       "      <td>B0001EWVZC</td>\n",
       "      <td>NaN</td>\n",
       "      <td>CShooter</td>\n",
       "      <td>Installation was a little harder on my 2000 Ci...</td>\n",
       "      <td>Good product given the price is inexpensive.</td>\n",
       "      <td>1340409600</td>\n",
       "      <td>1</td>\n",
       "      <td>positive</td>\n",
       "    </tr>\n",
       "    <tr>\n",
       "      <th>...</th>\n",
       "      <td>...</td>\n",
       "      <td>...</td>\n",
       "      <td>...</td>\n",
       "      <td>...</td>\n",
       "      <td>...</td>\n",
       "      <td>...</td>\n",
       "      <td>...</td>\n",
       "      <td>...</td>\n",
       "      <td>...</td>\n",
       "      <td>...</td>\n",
       "      <td>...</td>\n",
       "      <td>...</td>\n",
       "      <td>...</td>\n",
       "      <td>...</td>\n",
       "    </tr>\n",
       "    <tr>\n",
       "      <th>45134</th>\n",
       "      <td>NaN</td>\n",
       "      <td>5</td>\n",
       "      <td>NaN</td>\n",
       "      <td>True</td>\n",
       "      <td>12 2, 2016</td>\n",
       "      <td>A3DQU9H0AN61Q6</td>\n",
       "      <td>B0001CMUV4</td>\n",
       "      <td>NaN</td>\n",
       "      <td>robert l smith</td>\n",
       "      <td>works as expected</td>\n",
       "      <td>stowaway hitch tightner</td>\n",
       "      <td>1480636800</td>\n",
       "      <td>1</td>\n",
       "      <td>positive</td>\n",
       "    </tr>\n",
       "    <tr>\n",
       "      <th>47849</th>\n",
       "      <td>NaN</td>\n",
       "      <td>5</td>\n",
       "      <td>NaN</td>\n",
       "      <td>True</td>\n",
       "      <td>01 5, 2015</td>\n",
       "      <td>A2QWTHY01AYMSV</td>\n",
       "      <td>B0001EWCQK</td>\n",
       "      <td>NaN</td>\n",
       "      <td>DIANNE BEYER</td>\n",
       "      <td>No more rain inside when you crack the window....</td>\n",
       "      <td>awesome!</td>\n",
       "      <td>1420416000</td>\n",
       "      <td>1</td>\n",
       "      <td>positive</td>\n",
       "    </tr>\n",
       "    <tr>\n",
       "      <th>46114</th>\n",
       "      <td>NaN</td>\n",
       "      <td>5</td>\n",
       "      <td>NaN</td>\n",
       "      <td>True</td>\n",
       "      <td>08 23, 2014</td>\n",
       "      <td>AOARAIR00KUIA</td>\n",
       "      <td>B0001CMUV4</td>\n",
       "      <td>NaN</td>\n",
       "      <td>Cristina Barnett</td>\n",
       "      <td>best..no noise gr8.</td>\n",
       "      <td>best.. no noise gr8</td>\n",
       "      <td>1408752000</td>\n",
       "      <td>1</td>\n",
       "      <td>positive</td>\n",
       "    </tr>\n",
       "    <tr>\n",
       "      <th>47501</th>\n",
       "      <td>NaN</td>\n",
       "      <td>5</td>\n",
       "      <td>NaN</td>\n",
       "      <td>True</td>\n",
       "      <td>01 28, 2014</td>\n",
       "      <td>AS7AMCKSEWA11</td>\n",
       "      <td>B0001EXBQ0</td>\n",
       "      <td>NaN</td>\n",
       "      <td>E. Spencer</td>\n",
       "      <td>The shield was installed in less than 10 minut...</td>\n",
       "      <td>Looks great!!</td>\n",
       "      <td>1390867200</td>\n",
       "      <td>1</td>\n",
       "      <td>positive</td>\n",
       "    </tr>\n",
       "    <tr>\n",
       "      <th>44767</th>\n",
       "      <td>NaN</td>\n",
       "      <td>5</td>\n",
       "      <td>NaN</td>\n",
       "      <td>True</td>\n",
       "      <td>12 20, 2017</td>\n",
       "      <td>A24MH13ZWK4Q9A</td>\n",
       "      <td>B0001CMUV4</td>\n",
       "      <td>NaN</td>\n",
       "      <td>Amazon Customer</td>\n",
       "      <td>Completely eliminates rattle and movement of c...</td>\n",
       "      <td>Works great. No more movement of cargo carrier</td>\n",
       "      <td>1513728000</td>\n",
       "      <td>1</td>\n",
       "      <td>positive</td>\n",
       "    </tr>\n",
       "  </tbody>\n",
       "</table>\n",
       "<p>1000 rows × 14 columns</p>\n",
       "</div>"
      ],
      "text/plain": [
       "      image  overall  vote  verified   reviewTime      reviewerID        asin  \\\n",
       "46085   NaN        5   NaN      True   10 7, 2014  A1ECLHUJWKNZM7  B0001CMUV4   \n",
       "44796   NaN        5   NaN      True  11 16, 2017  A21FQ5NR9XCURD  B0001CMUV4   \n",
       "47090   NaN        5   NaN      True  10 23, 2017  A23T8NW2LO9JAI  B0001EXGZG   \n",
       "44596   NaN        5   NaN      True  11 12, 2014  A3Q7T92U7MBE8I  B0001CKHZ0   \n",
       "47988   NaN        5   NaN      True  06 23, 2012   A78YMB0JNAGPW  B0001EWVZC   \n",
       "...     ...      ...   ...       ...          ...             ...         ...   \n",
       "45134   NaN        5   NaN      True   12 2, 2016  A3DQU9H0AN61Q6  B0001CMUV4   \n",
       "47849   NaN        5   NaN      True   01 5, 2015  A2QWTHY01AYMSV  B0001EWCQK   \n",
       "46114   NaN        5   NaN      True  08 23, 2014   AOARAIR00KUIA  B0001CMUV4   \n",
       "47501   NaN        5   NaN      True  01 28, 2014   AS7AMCKSEWA11  B0001EXBQ0   \n",
       "44767   NaN        5   NaN      True  12 20, 2017  A24MH13ZWK4Q9A  B0001CMUV4   \n",
       "\n",
       "                                      style      reviewerName  \\\n",
       "46085                                   NaN                BJ   \n",
       "44796                                   NaN          David C.   \n",
       "47090                                   NaN        clodhopper   \n",
       "44596  {'Size:': ' Fits 8' - 10' Trailers'}      Mike Holland   \n",
       "47988                                   NaN          CShooter   \n",
       "...                                     ...               ...   \n",
       "45134                                   NaN    robert l smith   \n",
       "47849                                   NaN      DIANNE BEYER   \n",
       "46114                                   NaN  Cristina Barnett   \n",
       "47501                                   NaN        E. Spencer   \n",
       "44767                                   NaN   Amazon Customer   \n",
       "\n",
       "                                              reviewText  \\\n",
       "46085  Installed the tightener and it removed all the...   \n",
       "44796                          rock solid, fit perfectly   \n",
       "47090                               WORKS LIKE IT SHOULD   \n",
       "44596                   Great fit for our 10ft rockwood.   \n",
       "47988  Installation was a little harder on my 2000 Ci...   \n",
       "...                                                  ...   \n",
       "45134                                  works as expected   \n",
       "47849  No more rain inside when you crack the window....   \n",
       "46114                                best..no noise gr8.   \n",
       "47501  The shield was installed in less than 10 minut...   \n",
       "44767  Completely eliminates rattle and movement of c...   \n",
       "\n",
       "                                              summary  unixReviewTime  label  \\\n",
       "46085                                     VERY HAPPY.      1412640000      1   \n",
       "44796                                            Nice      1510790400      1   \n",
       "47090                                      Five Stars      1508716800      1   \n",
       "44596                                      Five Stars      1415750400      1   \n",
       "47988    Good product given the price is inexpensive.      1340409600      1   \n",
       "...                                               ...             ...    ...   \n",
       "45134                         stowaway hitch tightner      1480636800      1   \n",
       "47849                                        awesome!      1420416000      1   \n",
       "46114                             best.. no noise gr8      1408752000      1   \n",
       "47501                                   Looks great!!      1390867200      1   \n",
       "44767  Works great. No more movement of cargo carrier      1513728000      1   \n",
       "\n",
       "      sentiment  \n",
       "46085  positive  \n",
       "44796  positive  \n",
       "47090  positive  \n",
       "44596  positive  \n",
       "47988  positive  \n",
       "...         ...  \n",
       "45134  positive  \n",
       "47849  positive  \n",
       "46114  positive  \n",
       "47501  positive  \n",
       "44767  positive  \n",
       "\n",
       "[1000 rows x 14 columns]"
      ]
     },
     "execution_count": 22,
     "metadata": {},
     "output_type": "execute_result"
    }
   ],
   "source": [
    "df_train[df_train[\"label\"] == 1][:1000]"
   ]
  },
  {
   "cell_type": "code",
   "execution_count": 23,
   "id": "b5cf136d",
   "metadata": {},
   "outputs": [
    {
     "data": {
      "text/plain": [
       "(8077, 14)"
      ]
     },
     "execution_count": 23,
     "metadata": {},
     "output_type": "execute_result"
    }
   ],
   "source": [
    "df_train.shape"
   ]
  },
  {
   "cell_type": "code",
   "execution_count": 25,
   "id": "120aa3f4",
   "metadata": {},
   "outputs": [
    {
     "name": "stderr",
     "output_type": "stream",
     "text": [
      "[nltk_data] Downloading package stopwords to\n",
      "[nltk_data]     C:\\Users\\kovac\\AppData\\Roaming\\nltk_data...\n",
      "[nltk_data]   Unzipping corpora\\stopwords.zip.\n"
     ]
    },
    {
     "data": {
      "text/plain": [
       "['i', 'me', 'my', 'myself', 'we', 'our', 'ours', 'ourselves', 'you', \"you're\"]"
      ]
     },
     "execution_count": 25,
     "metadata": {},
     "output_type": "execute_result"
    }
   ],
   "source": [
    "import nltk\n",
    "from nltk.corpus import stopwords\n",
    "from nltk.tokenize import word_tokenize\n",
    "\n",
    "nltk.download('stopwords')\n",
    "\n",
    "STOPWORDS = stopwords.words(\"english\")\n",
    "\n",
    "STOPWORDS[:10] #stopword-ök meghatározása"
   ]
  },
  {
   "cell_type": "code",
   "execution_count": 26,
   "id": "c54f4472",
   "metadata": {},
   "outputs": [
    {
     "name": "stderr",
     "output_type": "stream",
     "text": [
      "[nltk_data] Downloading package punkt to\n",
      "[nltk_data]     C:\\Users\\kovac\\AppData\\Roaming\\nltk_data...\n",
      "[nltk_data]   Unzipping tokenizers\\punkt.zip.\n"
     ]
    },
    {
     "data": {
      "text/plain": [
       "32767    [it, fell, apart, after, two, weeks, ., never,...\n",
       "39382    [it, works, great, if, you, just, leave, it, o...\n",
       "16319    [30, days, after, purchase, was, in, shreds, d...\n",
       "46085    [installed, the, tightener, and, it, removed, ...\n",
       "16376    [after, using, this, product, and, going, on, ...\n",
       "Name: reviewText, dtype: object"
      ]
     },
     "execution_count": 26,
     "metadata": {},
     "output_type": "execute_result"
    }
   ],
   "source": [
    "nltk.download('punkt')\n",
    "\n",
    "tokenized_reviews = df_train[\"reviewText\"].apply(lambda review_text: word_tokenize(review_text.lower()))\n",
    "\n",
    "tokenized_reviews.head() #tokenizálás"
   ]
  },
  {
   "cell_type": "code",
   "execution_count": 27,
   "id": "40ac2fe2",
   "metadata": {},
   "outputs": [],
   "source": [
    "d = dict()\n",
    "\n",
    "for review in tokenized_reviews:\n",
    "    for word in review:\n",
    "        if word not in STOPWORDS and word.isalpha():\n",
    "            d[word] = d.get(word, 0) + 1\n",
    "#szótár meghatározása, stopword-ök ignorálása"
   ]
  },
  {
   "cell_type": "code",
   "execution_count": 28,
   "id": "6a2aa322",
   "metadata": {},
   "outputs": [],
   "source": [
    "DESIRED_VOCAB_SIZE = 4000\n",
    "\n",
    "\n",
    "VOCAB = [k for k,v in sorted(d.items(), key=lambda item: item[1], reverse=True)[:DESIRED_VOCAB_SIZE]] #szótár elkészítése"
   ]
  },
  {
   "cell_type": "code",
   "execution_count": 29,
   "id": "37c7261c",
   "metadata": {},
   "outputs": [],
   "source": [
    "word_table = pd.DataFrame({\"word\": VOCAB})\n",
    "word_table.to_json(\"./data/vocab.json\", orient=\"records\") #dataframe készítése a szótárból"
   ]
  },
  {
   "cell_type": "code",
   "execution_count": 30,
   "id": "507e678a",
   "metadata": {},
   "outputs": [
    {
     "name": "stdout",
     "output_type": "stream",
     "text": [
      "<class 'pandas.core.frame.DataFrame'>\n",
      "RangeIndex: 4000 entries, 0 to 3999\n",
      "Data columns (total 1 columns):\n",
      " #   Column  Non-Null Count  Dtype \n",
      "---  ------  --------------  ----- \n",
      " 0   word    4000 non-null   object\n",
      "dtypes: object(1)\n",
      "memory usage: 31.4+ KB\n"
     ]
    },
    {
     "data": {
      "text/html": [
       "<div>\n",
       "<style scoped>\n",
       "    .dataframe tbody tr th:only-of-type {\n",
       "        vertical-align: middle;\n",
       "    }\n",
       "\n",
       "    .dataframe tbody tr th {\n",
       "        vertical-align: top;\n",
       "    }\n",
       "\n",
       "    .dataframe thead th {\n",
       "        text-align: right;\n",
       "    }\n",
       "</style>\n",
       "<table border=\"1\" class=\"dataframe\">\n",
       "  <thead>\n",
       "    <tr style=\"text-align: right;\">\n",
       "      <th></th>\n",
       "      <th>word</th>\n",
       "    </tr>\n",
       "  </thead>\n",
       "  <tbody>\n",
       "    <tr>\n",
       "      <th>0</th>\n",
       "      <td>great</td>\n",
       "    </tr>\n",
       "    <tr>\n",
       "      <th>1</th>\n",
       "      <td>product</td>\n",
       "    </tr>\n",
       "    <tr>\n",
       "      <th>2</th>\n",
       "      <td>one</td>\n",
       "    </tr>\n",
       "    <tr>\n",
       "      <th>3</th>\n",
       "      <td>would</td>\n",
       "    </tr>\n",
       "    <tr>\n",
       "      <th>4</th>\n",
       "      <td>car</td>\n",
       "    </tr>\n",
       "    <tr>\n",
       "      <th>5</th>\n",
       "      <td>fit</td>\n",
       "    </tr>\n",
       "    <tr>\n",
       "      <th>6</th>\n",
       "      <td>good</td>\n",
       "    </tr>\n",
       "    <tr>\n",
       "      <th>7</th>\n",
       "      <td>easy</td>\n",
       "    </tr>\n",
       "    <tr>\n",
       "      <th>8</th>\n",
       "      <td>use</td>\n",
       "    </tr>\n",
       "    <tr>\n",
       "      <th>9</th>\n",
       "      <td>works</td>\n",
       "    </tr>\n",
       "  </tbody>\n",
       "</table>\n",
       "</div>"
      ],
      "text/plain": [
       "      word\n",
       "0    great\n",
       "1  product\n",
       "2      one\n",
       "3    would\n",
       "4      car\n",
       "5      fit\n",
       "6     good\n",
       "7     easy\n",
       "8      use\n",
       "9    works"
      ]
     },
     "execution_count": 30,
     "metadata": {},
     "output_type": "execute_result"
    }
   ],
   "source": [
    "word_table = pd.read_json(\"./data/vocab.json\", orient=\"records\")\n",
    "word_table.info()\n",
    "word_table.head(10) #word table mentése fájlba"
   ]
  },
  {
   "cell_type": "code",
   "execution_count": 31,
   "id": "804812bf",
   "metadata": {},
   "outputs": [],
   "source": [
    "dict_freqs = {\"positive\": {}, \"negative\": {}}"
   ]
  },
  {
   "cell_type": "code",
   "execution_count": 32,
   "id": "61cc437a",
   "metadata": {},
   "outputs": [],
   "source": [
    "VOCAB_IDX = {}\n",
    "for i in range(0, len(word_table[\"word\"].values)):\n",
    "    VOCAB_IDX[word_table[\"word\"].values[i]] = i\n",
    "\n",
    "for idx in range(df_train.shape[0]):\n",
    "    review = df_train.iloc[idx][\"reviewText\"]\n",
    "    sentiment = df_train.iloc[idx][\"sentiment\"]\n",
    "    \n",
    "    for word in review.split(\" \"):\n",
    "        if word in VOCAB_IDX:\n",
    "            dict_freqs[sentiment][word] = dict_freqs[sentiment].get(word, 0) + 1 \n",
    "            # előfordulások számolása negatív és pozitív környezetben"
   ]
  },
  {
   "cell_type": "code",
   "execution_count": 33,
   "id": "493f5b97",
   "metadata": {},
   "outputs": [
    {
     "data": {
      "text/plain": [
       "384"
      ]
     },
     "execution_count": 33,
     "metadata": {},
     "output_type": "execute_result"
    }
   ],
   "source": [
    "dict_freqs[\"positive\"][\"good\"]"
   ]
  },
  {
   "cell_type": "code",
   "execution_count": 34,
   "id": "5fc6cca4",
   "metadata": {},
   "outputs": [
    {
     "data": {
      "text/plain": [
       "335"
      ]
     },
     "execution_count": 34,
     "metadata": {},
     "output_type": "execute_result"
    }
   ],
   "source": [
    "dict_freqs[\"negative\"][\"good\"]"
   ]
  },
  {
   "cell_type": "code",
   "execution_count": 35,
   "id": "b4f5009c",
   "metadata": {},
   "outputs": [
    {
     "data": {
      "text/html": [
       "<div>\n",
       "<style scoped>\n",
       "    .dataframe tbody tr th:only-of-type {\n",
       "        vertical-align: middle;\n",
       "    }\n",
       "\n",
       "    .dataframe tbody tr th {\n",
       "        vertical-align: top;\n",
       "    }\n",
       "\n",
       "    .dataframe thead th {\n",
       "        text-align: right;\n",
       "    }\n",
       "</style>\n",
       "<table border=\"1\" class=\"dataframe\">\n",
       "  <thead>\n",
       "    <tr style=\"text-align: right;\">\n",
       "      <th></th>\n",
       "      <th>word</th>\n",
       "    </tr>\n",
       "  </thead>\n",
       "  <tbody>\n",
       "    <tr>\n",
       "      <th>0</th>\n",
       "      <td>great</td>\n",
       "    </tr>\n",
       "    <tr>\n",
       "      <th>1</th>\n",
       "      <td>product</td>\n",
       "    </tr>\n",
       "    <tr>\n",
       "      <th>2</th>\n",
       "      <td>one</td>\n",
       "    </tr>\n",
       "    <tr>\n",
       "      <th>3</th>\n",
       "      <td>would</td>\n",
       "    </tr>\n",
       "    <tr>\n",
       "      <th>4</th>\n",
       "      <td>car</td>\n",
       "    </tr>\n",
       "  </tbody>\n",
       "</table>\n",
       "</div>"
      ],
      "text/plain": [
       "      word\n",
       "0    great\n",
       "1  product\n",
       "2      one\n",
       "3    would\n",
       "4      car"
      ]
     },
     "execution_count": 35,
     "metadata": {},
     "output_type": "execute_result"
    }
   ],
   "source": [
    "word_table.head()"
   ]
  },
  {
   "cell_type": "code",
   "execution_count": 36,
   "id": "1109d92b",
   "metadata": {},
   "outputs": [],
   "source": [
    "total_positive = sum(dict_freqs[\"positive\"].values())\n",
    "\n",
    "word_table[\"positive\"] = [(dict_freqs[\"positive\"].get(w, 0) + 1) / (total_positive + len(VOCAB))  for w in word_table[\"word\"]]\n",
    "#szavak előfordulásának aránya meghatározása az összes pozitív előfordulásból"
   ]
  },
  {
   "cell_type": "code",
   "execution_count": 37,
   "id": "8b31c419",
   "metadata": {},
   "outputs": [],
   "source": [
    "total_negative = sum(dict_freqs[\"negative\"].values())\n",
    "\n",
    "word_table[\"negative\"] = [(dict_freqs[\"negative\"].get(w, 0) + 1) / (total_negative + len(VOCAB))  for w in word_table[\"word\"]]\n",
    "#szavak előfordulásának aránya meghatározása az összes negatív előfordulásból"
   ]
  },
  {
   "cell_type": "code",
   "execution_count": 38,
   "id": "db1b217f",
   "metadata": {},
   "outputs": [
    {
     "data": {
      "text/html": [
       "<div>\n",
       "<style scoped>\n",
       "    .dataframe tbody tr th:only-of-type {\n",
       "        vertical-align: middle;\n",
       "    }\n",
       "\n",
       "    .dataframe tbody tr th {\n",
       "        vertical-align: top;\n",
       "    }\n",
       "\n",
       "    .dataframe thead th {\n",
       "        text-align: right;\n",
       "    }\n",
       "</style>\n",
       "<table border=\"1\" class=\"dataframe\">\n",
       "  <thead>\n",
       "    <tr style=\"text-align: right;\">\n",
       "      <th></th>\n",
       "      <th>word</th>\n",
       "      <th>positive</th>\n",
       "      <th>negative</th>\n",
       "    </tr>\n",
       "  </thead>\n",
       "  <tbody>\n",
       "    <tr>\n",
       "      <th>0</th>\n",
       "      <td>great</td>\n",
       "      <td>0.013754</td>\n",
       "      <td>0.002310</td>\n",
       "    </tr>\n",
       "    <tr>\n",
       "      <th>1</th>\n",
       "      <td>product</td>\n",
       "      <td>0.008153</td>\n",
       "      <td>0.009560</td>\n",
       "    </tr>\n",
       "    <tr>\n",
       "      <th>2</th>\n",
       "      <td>one</td>\n",
       "      <td>0.009408</td>\n",
       "      <td>0.010200</td>\n",
       "    </tr>\n",
       "    <tr>\n",
       "      <th>3</th>\n",
       "      <td>would</td>\n",
       "      <td>0.007036</td>\n",
       "      <td>0.011785</td>\n",
       "    </tr>\n",
       "    <tr>\n",
       "      <th>4</th>\n",
       "      <td>car</td>\n",
       "      <td>0.008173</td>\n",
       "      <td>0.006845</td>\n",
       "    </tr>\n",
       "  </tbody>\n",
       "</table>\n",
       "</div>"
      ],
      "text/plain": [
       "      word  positive  negative\n",
       "0    great  0.013754  0.002310\n",
       "1  product  0.008153  0.009560\n",
       "2      one  0.009408  0.010200\n",
       "3    would  0.007036  0.011785\n",
       "4      car  0.008173  0.006845"
      ]
     },
     "execution_count": 38,
     "metadata": {},
     "output_type": "execute_result"
    }
   ],
   "source": [
    "word_table.head()"
   ]
  },
  {
   "cell_type": "code",
   "execution_count": 39,
   "id": "cebe6f96",
   "metadata": {},
   "outputs": [],
   "source": [
    "import numpy as np\n",
    "\n",
    "word_table[\"ratio\"] = np.log(word_table[\"positive\"] / word_table[\"negative\"])\n",
    "#szavak előfordulásának meghatározása pozitív:negatív arányban"
   ]
  },
  {
   "cell_type": "code",
   "execution_count": 40,
   "id": "0bf1e703",
   "metadata": {},
   "outputs": [
    {
     "data": {
      "text/html": [
       "<div>\n",
       "<style scoped>\n",
       "    .dataframe tbody tr th:only-of-type {\n",
       "        vertical-align: middle;\n",
       "    }\n",
       "\n",
       "    .dataframe tbody tr th {\n",
       "        vertical-align: top;\n",
       "    }\n",
       "\n",
       "    .dataframe thead th {\n",
       "        text-align: right;\n",
       "    }\n",
       "</style>\n",
       "<table border=\"1\" class=\"dataframe\">\n",
       "  <thead>\n",
       "    <tr style=\"text-align: right;\">\n",
       "      <th></th>\n",
       "      <th>word</th>\n",
       "      <th>positive</th>\n",
       "      <th>negative</th>\n",
       "      <th>ratio</th>\n",
       "    </tr>\n",
       "  </thead>\n",
       "  <tbody>\n",
       "    <tr>\n",
       "      <th>0</th>\n",
       "      <td>great</td>\n",
       "      <td>0.013754</td>\n",
       "      <td>0.002310</td>\n",
       "      <td>1.784128</td>\n",
       "    </tr>\n",
       "    <tr>\n",
       "      <th>1</th>\n",
       "      <td>product</td>\n",
       "      <td>0.008153</td>\n",
       "      <td>0.009560</td>\n",
       "      <td>-0.159227</td>\n",
       "    </tr>\n",
       "    <tr>\n",
       "      <th>2</th>\n",
       "      <td>one</td>\n",
       "      <td>0.009408</td>\n",
       "      <td>0.010200</td>\n",
       "      <td>-0.080832</td>\n",
       "    </tr>\n",
       "    <tr>\n",
       "      <th>3</th>\n",
       "      <td>would</td>\n",
       "      <td>0.007036</td>\n",
       "      <td>0.011785</td>\n",
       "      <td>-0.515765</td>\n",
       "    </tr>\n",
       "    <tr>\n",
       "      <th>4</th>\n",
       "      <td>car</td>\n",
       "      <td>0.008173</td>\n",
       "      <td>0.006845</td>\n",
       "      <td>0.177221</td>\n",
       "    </tr>\n",
       "  </tbody>\n",
       "</table>\n",
       "</div>"
      ],
      "text/plain": [
       "      word  positive  negative     ratio\n",
       "0    great  0.013754  0.002310  1.784128\n",
       "1  product  0.008153  0.009560 -0.159227\n",
       "2      one  0.009408  0.010200 -0.080832\n",
       "3    would  0.007036  0.011785 -0.515765\n",
       "4      car  0.008173  0.006845  0.177221"
      ]
     },
     "execution_count": 40,
     "metadata": {},
     "output_type": "execute_result"
    }
   ],
   "source": [
    "word_table.head()"
   ]
  },
  {
   "cell_type": "code",
   "execution_count": 41,
   "id": "040164ca",
   "metadata": {},
   "outputs": [],
   "source": [
    "word_table = word_table.set_index(\"word\")"
   ]
  },
  {
   "cell_type": "code",
   "execution_count": 42,
   "id": "b8df2559",
   "metadata": {},
   "outputs": [
    {
     "data": {
      "text/html": [
       "<div>\n",
       "<style scoped>\n",
       "    .dataframe tbody tr th:only-of-type {\n",
       "        vertical-align: middle;\n",
       "    }\n",
       "\n",
       "    .dataframe tbody tr th {\n",
       "        vertical-align: top;\n",
       "    }\n",
       "\n",
       "    .dataframe thead th {\n",
       "        text-align: right;\n",
       "    }\n",
       "</style>\n",
       "<table border=\"1\" class=\"dataframe\">\n",
       "  <thead>\n",
       "    <tr style=\"text-align: right;\">\n",
       "      <th></th>\n",
       "      <th>positive</th>\n",
       "      <th>negative</th>\n",
       "      <th>ratio</th>\n",
       "    </tr>\n",
       "    <tr>\n",
       "      <th>word</th>\n",
       "      <th></th>\n",
       "      <th></th>\n",
       "      <th></th>\n",
       "    </tr>\n",
       "  </thead>\n",
       "  <tbody>\n",
       "    <tr>\n",
       "      <th>great</th>\n",
       "      <td>0.013754</td>\n",
       "      <td>0.002310</td>\n",
       "      <td>1.784128</td>\n",
       "    </tr>\n",
       "    <tr>\n",
       "      <th>product</th>\n",
       "      <td>0.008153</td>\n",
       "      <td>0.009560</td>\n",
       "      <td>-0.159227</td>\n",
       "    </tr>\n",
       "    <tr>\n",
       "      <th>one</th>\n",
       "      <td>0.009408</td>\n",
       "      <td>0.010200</td>\n",
       "      <td>-0.080832</td>\n",
       "    </tr>\n",
       "    <tr>\n",
       "      <th>would</th>\n",
       "      <td>0.007036</td>\n",
       "      <td>0.011785</td>\n",
       "      <td>-0.515765</td>\n",
       "    </tr>\n",
       "    <tr>\n",
       "      <th>car</th>\n",
       "      <td>0.008173</td>\n",
       "      <td>0.006845</td>\n",
       "      <td>0.177221</td>\n",
       "    </tr>\n",
       "  </tbody>\n",
       "</table>\n",
       "</div>"
      ],
      "text/plain": [
       "         positive  negative     ratio\n",
       "word                                 \n",
       "great    0.013754  0.002310  1.784128\n",
       "product  0.008153  0.009560 -0.159227\n",
       "one      0.009408  0.010200 -0.080832\n",
       "would    0.007036  0.011785 -0.515765\n",
       "car      0.008173  0.006845  0.177221"
      ]
     },
     "execution_count": 42,
     "metadata": {},
     "output_type": "execute_result"
    }
   ],
   "source": [
    "word_table.head()"
   ]
  },
  {
   "cell_type": "code",
   "execution_count": 43,
   "id": "b6a473ac",
   "metadata": {},
   "outputs": [
    {
     "data": {
      "text/plain": [
       "count    4000.000000\n",
       "mean       -0.137895\n",
       "std         1.033686\n",
       "min        -4.457555\n",
       "25%        -0.921517\n",
       "50%        -0.148965\n",
       "75%         0.572883\n",
       "max         3.534713\n",
       "Name: ratio, dtype: float64"
      ]
     },
     "execution_count": 43,
     "metadata": {},
     "output_type": "execute_result"
    }
   ],
   "source": [
    "word_table[\"ratio\"].describe()"
   ]
  },
  {
   "cell_type": "code",
   "execution_count": 44,
   "id": "2f9c772f",
   "metadata": {},
   "outputs": [
    {
     "data": {
      "text/html": [
       "<div>\n",
       "<style scoped>\n",
       "    .dataframe tbody tr th:only-of-type {\n",
       "        vertical-align: middle;\n",
       "    }\n",
       "\n",
       "    .dataframe tbody tr th {\n",
       "        vertical-align: top;\n",
       "    }\n",
       "\n",
       "    .dataframe thead th {\n",
       "        text-align: right;\n",
       "    }\n",
       "</style>\n",
       "<table border=\"1\" class=\"dataframe\">\n",
       "  <thead>\n",
       "    <tr style=\"text-align: right;\">\n",
       "      <th></th>\n",
       "      <th>positive</th>\n",
       "      <th>negative</th>\n",
       "      <th>ratio</th>\n",
       "      <th>word</th>\n",
       "    </tr>\n",
       "    <tr>\n",
       "      <th>word</th>\n",
       "      <th></th>\n",
       "      <th></th>\n",
       "      <th></th>\n",
       "      <th></th>\n",
       "    </tr>\n",
       "  </thead>\n",
       "  <tbody>\n",
       "    <tr>\n",
       "      <th>great</th>\n",
       "      <td>0.013754</td>\n",
       "      <td>0.002310</td>\n",
       "      <td>1.784128</td>\n",
       "      <td>great</td>\n",
       "    </tr>\n",
       "    <tr>\n",
       "      <th>product</th>\n",
       "      <td>0.008153</td>\n",
       "      <td>0.009560</td>\n",
       "      <td>-0.159227</td>\n",
       "      <td>product</td>\n",
       "    </tr>\n",
       "    <tr>\n",
       "      <th>one</th>\n",
       "      <td>0.009408</td>\n",
       "      <td>0.010200</td>\n",
       "      <td>-0.080832</td>\n",
       "      <td>one</td>\n",
       "    </tr>\n",
       "    <tr>\n",
       "      <th>would</th>\n",
       "      <td>0.007036</td>\n",
       "      <td>0.011785</td>\n",
       "      <td>-0.515765</td>\n",
       "      <td>would</td>\n",
       "    </tr>\n",
       "    <tr>\n",
       "      <th>car</th>\n",
       "      <td>0.008173</td>\n",
       "      <td>0.006845</td>\n",
       "      <td>0.177221</td>\n",
       "      <td>car</td>\n",
       "    </tr>\n",
       "  </tbody>\n",
       "</table>\n",
       "</div>"
      ],
      "text/plain": [
       "         positive  negative     ratio     word\n",
       "word                                          \n",
       "great    0.013754  0.002310  1.784128    great\n",
       "product  0.008153  0.009560 -0.159227  product\n",
       "one      0.009408  0.010200 -0.080832      one\n",
       "would    0.007036  0.011785 -0.515765    would\n",
       "car      0.008173  0.006845  0.177221      car"
      ]
     },
     "execution_count": 44,
     "metadata": {},
     "output_type": "execute_result"
    }
   ],
   "source": [
    "word_table[\"word\"] = word_table.index\n",
    "word_table.head()"
   ]
  },
  {
   "cell_type": "code",
   "execution_count": 45,
   "id": "7f59cff0",
   "metadata": {},
   "outputs": [],
   "source": [
    "word_table.to_json(\"./data/word_table.json\",orient=\"records\") # word table mentés efájlba"
   ]
  },
  {
   "cell_type": "code",
   "execution_count": 46,
   "id": "027fc6fb",
   "metadata": {},
   "outputs": [
    {
     "data": {
      "text/html": [
       "<div>\n",
       "<style scoped>\n",
       "    .dataframe tbody tr th:only-of-type {\n",
       "        vertical-align: middle;\n",
       "    }\n",
       "\n",
       "    .dataframe tbody tr th {\n",
       "        vertical-align: top;\n",
       "    }\n",
       "\n",
       "    .dataframe thead th {\n",
       "        text-align: right;\n",
       "    }\n",
       "</style>\n",
       "<table border=\"1\" class=\"dataframe\">\n",
       "  <thead>\n",
       "    <tr style=\"text-align: right;\">\n",
       "      <th></th>\n",
       "      <th>positive</th>\n",
       "      <th>negative</th>\n",
       "      <th>ratio</th>\n",
       "      <th>word</th>\n",
       "    </tr>\n",
       "  </thead>\n",
       "  <tbody>\n",
       "    <tr>\n",
       "      <th>0</th>\n",
       "      <td>0.013754</td>\n",
       "      <td>0.002310</td>\n",
       "      <td>1.784128</td>\n",
       "      <td>great</td>\n",
       "    </tr>\n",
       "    <tr>\n",
       "      <th>1</th>\n",
       "      <td>0.008153</td>\n",
       "      <td>0.009560</td>\n",
       "      <td>-0.159227</td>\n",
       "      <td>product</td>\n",
       "    </tr>\n",
       "    <tr>\n",
       "      <th>2</th>\n",
       "      <td>0.009408</td>\n",
       "      <td>0.010200</td>\n",
       "      <td>-0.080832</td>\n",
       "      <td>one</td>\n",
       "    </tr>\n",
       "    <tr>\n",
       "      <th>3</th>\n",
       "      <td>0.007036</td>\n",
       "      <td>0.011785</td>\n",
       "      <td>-0.515765</td>\n",
       "      <td>would</td>\n",
       "    </tr>\n",
       "    <tr>\n",
       "      <th>4</th>\n",
       "      <td>0.008173</td>\n",
       "      <td>0.006845</td>\n",
       "      <td>0.177221</td>\n",
       "      <td>car</td>\n",
       "    </tr>\n",
       "  </tbody>\n",
       "</table>\n",
       "</div>"
      ],
      "text/plain": [
       "   positive  negative     ratio     word\n",
       "0  0.013754  0.002310  1.784128    great\n",
       "1  0.008153  0.009560 -0.159227  product\n",
       "2  0.009408  0.010200 -0.080832      one\n",
       "3  0.007036  0.011785 -0.515765    would\n",
       "4  0.008173  0.006845  0.177221      car"
      ]
     },
     "execution_count": 46,
     "metadata": {},
     "output_type": "execute_result"
    }
   ],
   "source": [
    "import pandas as pd\n",
    "\n",
    "word_table = pd.read_json(\"./data/word_table.json\", orient=\"records\")\n",
    "word_table.head() #word table beolvasása"
   ]
  },
  {
   "cell_type": "code",
   "execution_count": 47,
   "id": "f457dd9e",
   "metadata": {},
   "outputs": [
    {
     "data": {
      "text/html": [
       "<div>\n",
       "<style scoped>\n",
       "    .dataframe tbody tr th:only-of-type {\n",
       "        vertical-align: middle;\n",
       "    }\n",
       "\n",
       "    .dataframe tbody tr th {\n",
       "        vertical-align: top;\n",
       "    }\n",
       "\n",
       "    .dataframe thead th {\n",
       "        text-align: right;\n",
       "    }\n",
       "</style>\n",
       "<table border=\"1\" class=\"dataframe\">\n",
       "  <thead>\n",
       "    <tr style=\"text-align: right;\">\n",
       "      <th></th>\n",
       "      <th>positive</th>\n",
       "      <th>negative</th>\n",
       "      <th>ratio</th>\n",
       "    </tr>\n",
       "    <tr>\n",
       "      <th>word</th>\n",
       "      <th></th>\n",
       "      <th></th>\n",
       "      <th></th>\n",
       "    </tr>\n",
       "  </thead>\n",
       "  <tbody>\n",
       "    <tr>\n",
       "      <th>great</th>\n",
       "      <td>0.013754</td>\n",
       "      <td>0.002310</td>\n",
       "      <td>1.784128</td>\n",
       "    </tr>\n",
       "    <tr>\n",
       "      <th>product</th>\n",
       "      <td>0.008153</td>\n",
       "      <td>0.009560</td>\n",
       "      <td>-0.159227</td>\n",
       "    </tr>\n",
       "    <tr>\n",
       "      <th>one</th>\n",
       "      <td>0.009408</td>\n",
       "      <td>0.010200</td>\n",
       "      <td>-0.080832</td>\n",
       "    </tr>\n",
       "    <tr>\n",
       "      <th>would</th>\n",
       "      <td>0.007036</td>\n",
       "      <td>0.011785</td>\n",
       "      <td>-0.515765</td>\n",
       "    </tr>\n",
       "    <tr>\n",
       "      <th>car</th>\n",
       "      <td>0.008173</td>\n",
       "      <td>0.006845</td>\n",
       "      <td>0.177221</td>\n",
       "    </tr>\n",
       "  </tbody>\n",
       "</table>\n",
       "</div>"
      ],
      "text/plain": [
       "         positive  negative     ratio\n",
       "word                                 \n",
       "great    0.013754  0.002310  1.784128\n",
       "product  0.008153  0.009560 -0.159227\n",
       "one      0.009408  0.010200 -0.080832\n",
       "would    0.007036  0.011785 -0.515765\n",
       "car      0.008173  0.006845  0.177221"
      ]
     },
     "execution_count": 47,
     "metadata": {},
     "output_type": "execute_result"
    }
   ],
   "source": [
    "word_table = word_table.set_index(\"word\")\n",
    "word_table.head()"
   ]
  },
  {
   "cell_type": "code",
   "execution_count": 48,
   "id": "b0924700",
   "metadata": {},
   "outputs": [],
   "source": [
    "from nltk.corpus import stopwords\n",
    "from nltk.tokenize import word_tokenize\n",
    "\n",
    "STOPWORDS = stopwords.words(\"english\")\n",
    "\n",
    "def predict_for_review_raw(review):\n",
    "\n",
    "    word_table_words = word_table.index\n",
    "\n",
    "    return sum([word_table[\"ratio\"].loc[token] for token in review if token in word_table_words])\n",
    "#milyen arányban fordul elő a szó pozitív értékelésekben?"
   ]
  },
  {
   "cell_type": "code",
   "execution_count": 57,
   "id": "e206ce20",
   "metadata": {},
   "outputs": [
    {
     "data": {
      "text/plain": [
       "-0.4995729186000001"
      ]
     },
     "execution_count": 57,
     "metadata": {},
     "output_type": "execute_result"
    }
   ],
   "source": [
    "predict_for_review_raw(\"This part was bad for me!\") #ha az érték negatív akkor negatív értékelésben \n",
    "#  -------------------------------------------------szerepel inkább, egyébként pozitív"
   ]
  },
  {
   "cell_type": "code",
   "execution_count": 50,
   "id": "80c39b15",
   "metadata": {},
   "outputs": [],
   "source": [
    "def predict_for_review(review):\n",
    "    return int(predict_for_review_raw(review) > 0)\n",
    "#ha kisebb mint 0 akkor negatív, ha nagyobb akkor pozitív "
   ]
  },
  {
   "cell_type": "code",
   "execution_count": 51,
   "id": "a79375cb",
   "metadata": {},
   "outputs": [
    {
     "data": {
      "text/plain": [
       "32767    0\n",
       "39382    0\n",
       "16319    0\n",
       "46085    0\n",
       "16376    1\n",
       "        ..\n",
       "43816    0\n",
       "48577    0\n",
       "38495    0\n",
       "43963    0\n",
       "47063    0\n",
       "Name: reviewText, Length: 8077, dtype: int64"
      ]
     },
     "execution_count": 51,
     "metadata": {},
     "output_type": "execute_result"
    }
   ],
   "source": [
    "preds = df_train[\"reviewText\"].apply(predict_for_review)\n",
    "\n",
    "preds # prediktálás"
   ]
  },
  {
   "cell_type": "code",
   "execution_count": 52,
   "id": "11eab6c9",
   "metadata": {},
   "outputs": [],
   "source": [
    "real = (df_train[\"sentiment\"] == \"positive\").astype(int)"
   ]
  },
  {
   "cell_type": "code",
   "execution_count": 53,
   "id": "265b43a8",
   "metadata": {},
   "outputs": [],
   "source": [
    "def get_accuracy(preds, real):\n",
    "    return sum(preds == real) / len(real)"
   ]
  },
  {
   "cell_type": "code",
   "execution_count": 54,
   "id": "a80bf753",
   "metadata": {},
   "outputs": [
    {
     "name": "stdout",
     "output_type": "stream",
     "text": [
      "Training set accuracy: 0.4255292806735174\n"
     ]
    }
   ],
   "source": [
    "print(f\"Training set accuracy: {get_accuracy(preds, real)}\") #training"
   ]
  },
  {
   "cell_type": "code",
   "execution_count": 55,
   "id": "5a8a26ef",
   "metadata": {},
   "outputs": [
    {
     "name": "stdout",
     "output_type": "stream",
     "text": [
      "Validation set accuracy: 0.4311490978157645\n"
     ]
    }
   ],
   "source": [
    "preds_val = df_val[\"reviewText\"].apply(predict_for_review)\n",
    "real_val = (df_val[\"sentiment\"] == \"positive\").astype(int)\n",
    "print(f\"Validation set accuracy: {get_accuracy(preds_val, real_val)}\") # validáció"
   ]
  },
  {
   "cell_type": "code",
   "execution_count": 56,
   "id": "635297ef",
   "metadata": {},
   "outputs": [
    {
     "name": "stdout",
     "output_type": "stream",
     "text": [
      "Test set accuracy: 0.43886063072227877\n"
     ]
    }
   ],
   "source": [
    "preds_test = df_test[\"reviewText\"].apply(predict_for_review)\n",
    "real_test = (df_test[\"sentiment\"] == \"positive\").astype(int)\n",
    "print(f\"Test set accuracy: {get_accuracy(preds_test, real_test)}\")#teszt"
   ]
  },
  {
   "cell_type": "code",
   "execution_count": null,
   "id": "0b8dc8e6",
   "metadata": {},
   "outputs": [],
   "source": []
  }
 ],
 "metadata": {
  "kernelspec": {
   "display_name": "Python 3 (ipykernel)",
   "language": "python",
   "name": "python3"
  },
  "language_info": {
   "codemirror_mode": {
    "name": "ipython",
    "version": 3
   },
   "file_extension": ".py",
   "mimetype": "text/x-python",
   "name": "python",
   "nbconvert_exporter": "python",
   "pygments_lexer": "ipython3",
   "version": "3.9.15"
  }
 },
 "nbformat": 4,
 "nbformat_minor": 5
}
